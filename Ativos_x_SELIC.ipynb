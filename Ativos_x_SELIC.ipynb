{
  "nbformat": 4,
  "nbformat_minor": 0,
  "metadata": {
    "colab": {
      "provenance": [],
      "authorship_tag": "ABX9TyOmAsGnvS01I/FXJCPQ2n+R",
      "include_colab_link": true
    },
    "kernelspec": {
      "name": "python3",
      "display_name": "Python 3"
    },
    "language_info": {
      "name": "python"
    }
  },
  "cells": [
    {
      "cell_type": "markdown",
      "metadata": {
        "id": "view-in-github",
        "colab_type": "text"
      },
      "source": [
        "<a href=\"https://colab.research.google.com/github/EdwardWendling/Ativos-x-SELIC/blob/main/Ativos_x_SELIC.ipynb\" target=\"_parent\"><img src=\"https://colab.research.google.com/assets/colab-badge.svg\" alt=\"Open In Colab\"/></a>"
      ]
    },
    {
      "cell_type": "code",
      "execution_count": 1,
      "metadata": {
        "colab": {
          "base_uri": "https://localhost:8080/"
        },
        "id": "kAdqnHEYfgS9",
        "outputId": "08b1d3eb-334d-4b7a-a5b9-40f8bf3b39c5"
      },
      "outputs": [
        {
          "output_type": "stream",
          "name": "stdout",
          "text": [
            "Requirement already satisfied: yfinance in /usr/local/lib/python3.10/dist-packages (0.2.43)\n",
            "Requirement already satisfied: pandas>=1.3.0 in /usr/local/lib/python3.10/dist-packages (from yfinance) (2.1.4)\n",
            "Requirement already satisfied: numpy>=1.16.5 in /usr/local/lib/python3.10/dist-packages (from yfinance) (1.26.4)\n",
            "Requirement already satisfied: requests>=2.31 in /usr/local/lib/python3.10/dist-packages (from yfinance) (2.32.3)\n",
            "Requirement already satisfied: multitasking>=0.0.7 in /usr/local/lib/python3.10/dist-packages (from yfinance) (0.0.11)\n",
            "Requirement already satisfied: lxml>=4.9.1 in /usr/local/lib/python3.10/dist-packages (from yfinance) (4.9.4)\n",
            "Requirement already satisfied: platformdirs>=2.0.0 in /usr/local/lib/python3.10/dist-packages (from yfinance) (4.2.2)\n",
            "Requirement already satisfied: pytz>=2022.5 in /usr/local/lib/python3.10/dist-packages (from yfinance) (2024.1)\n",
            "Requirement already satisfied: frozendict>=2.3.4 in /usr/local/lib/python3.10/dist-packages (from yfinance) (2.4.4)\n",
            "Requirement already satisfied: peewee>=3.16.2 in /usr/local/lib/python3.10/dist-packages (from yfinance) (3.17.6)\n",
            "Requirement already satisfied: beautifulsoup4>=4.11.1 in /usr/local/lib/python3.10/dist-packages (from yfinance) (4.12.3)\n",
            "Requirement already satisfied: html5lib>=1.1 in /usr/local/lib/python3.10/dist-packages (from yfinance) (1.1)\n",
            "Requirement already satisfied: soupsieve>1.2 in /usr/local/lib/python3.10/dist-packages (from beautifulsoup4>=4.11.1->yfinance) (2.6)\n",
            "Requirement already satisfied: six>=1.9 in /usr/local/lib/python3.10/dist-packages (from html5lib>=1.1->yfinance) (1.16.0)\n",
            "Requirement already satisfied: webencodings in /usr/local/lib/python3.10/dist-packages (from html5lib>=1.1->yfinance) (0.5.1)\n",
            "Requirement already satisfied: python-dateutil>=2.8.2 in /usr/local/lib/python3.10/dist-packages (from pandas>=1.3.0->yfinance) (2.8.2)\n",
            "Requirement already satisfied: tzdata>=2022.1 in /usr/local/lib/python3.10/dist-packages (from pandas>=1.3.0->yfinance) (2024.1)\n",
            "Requirement already satisfied: charset-normalizer<4,>=2 in /usr/local/lib/python3.10/dist-packages (from requests>=2.31->yfinance) (3.3.2)\n",
            "Requirement already satisfied: idna<4,>=2.5 in /usr/local/lib/python3.10/dist-packages (from requests>=2.31->yfinance) (3.8)\n",
            "Requirement already satisfied: urllib3<3,>=1.21.1 in /usr/local/lib/python3.10/dist-packages (from requests>=2.31->yfinance) (2.0.7)\n",
            "Requirement already satisfied: certifi>=2017.4.17 in /usr/local/lib/python3.10/dist-packages (from requests>=2.31->yfinance) (2024.7.4)\n"
          ]
        }
      ],
      "source": [
        "!pip install yfinance\n",
        "\n",
        "import pandas as pd\n",
        "import matplotlib.pyplot as plt\n",
        "import yfinance as yf\n",
        "import seaborn as sns\n"
      ]
    },
    {
      "cell_type": "code",
      "source": [
        "def extracao_bcb(codigo, data_inicio, data_fim):\n",
        "  url = 'https://api.bcb.gov.br/dados/serie/bcdata.sgs.{}/dados?formato=json&dataInicial={}&dataFinal={}'.format(codigo, data_inicio, data_fim)\n",
        "  df = pd.read_json(url)\n",
        "  df.set_index('data', inplace = True)\n",
        "  df.index = pd.to_datetime(df.index, dayfirst= True)\n",
        "  df.columns = ['SELIC']\n",
        "  df['SELIC'] = df['SELIC']/100\n",
        "  return df\n",
        "\n",
        "dados = extracao_bcb(4390, '01/01/2020', '31/07/2024')\n",
        "\n"
      ],
      "metadata": {
        "id": "Sb8CQ_HOgQlv"
      },
      "execution_count": 4,
      "outputs": []
    },
    {
      "cell_type": "code",
      "source": [
        "ativos = ['MXRF11', 'CPLE6']\n",
        "\n",
        "for i in ativos:\n",
        "  dados[i] = yf.download(i+'.SA',\n",
        "                         start='2020-01-01',\n",
        "                         end='2024-07-31',\n",
        "                         interval='1mo')['Adj Close'].pct_change()"
      ],
      "metadata": {
        "colab": {
          "base_uri": "https://localhost:8080/"
        },
        "id": "UGFedwm3jMLj",
        "outputId": "191546f6-e7fc-4a93-e7a8-fa8bb1bc9640"
      },
      "execution_count": 23,
      "outputs": [
        {
          "output_type": "stream",
          "name": "stderr",
          "text": [
            "[*********************100%***********************]  1 of 1 completed\n",
            "[*********************100%***********************]  1 of 1 completed\n"
          ]
        }
      ]
    },
    {
      "cell_type": "code",
      "source": [
        "print(dados)"
      ],
      "metadata": {
        "colab": {
          "base_uri": "https://localhost:8080/"
        },
        "id": "HUeoV6Qsk_Vp",
        "outputId": "d347a9c6-dcf6-470e-bf54-d5adf1c6ad39"
      },
      "execution_count": 24,
      "outputs": [
        {
          "output_type": "stream",
          "name": "stdout",
          "text": [
            "             SELIC     ITUB4    MXRF11     CPLE6\n",
            "data                                            \n",
            "2020-02-01  1.0029  0.975410 -0.041096 -0.023291\n",
            "2020-03-01  1.0034  0.732300 -0.092857 -0.253940\n",
            "2020-04-01  1.0028  0.986604 -0.002953  0.016823\n",
            "2020-05-01  1.0024  1.012515  0.069101  0.163603\n",
            "2020-06-01  1.0021  1.105328  0.014774 -0.039178\n",
            "2020-07-01  1.0019  1.057270 -0.003640  0.091417\n",
            "2020-08-01  1.0016  0.876307 -0.025571 -0.069298\n",
            "2020-09-01  1.0016  0.958046  0.022493  0.003722\n",
            "2020-10-01  1.0016  1.044220 -0.045830 -0.004032\n",
            "2020-11-01  1.0015  1.217166  0.016330  0.105408\n",
            "2020-12-01  1.0016  1.108201 -0.008506  0.097700\n",
            "2021-01-01  1.0015  0.898277  0.012393 -0.091985\n",
            "2021-02-01  1.0013  0.903529  0.016949 -0.102635\n",
            "2021-03-01  1.0020  1.101521 -0.037037  0.217139\n",
            "2021-04-01  1.0021  0.986654  0.025000 -0.122019\n",
            "2021-05-01  1.0027  1.075830 -0.008443  0.123208\n",
            "2021-06-01  1.0031  1.011030 -0.039735 -0.070533\n",
            "2021-07-01  1.0036  1.017295  0.007882  0.032041\n",
            "2021-08-01  1.0043  1.021636 -0.024438  0.117647\n",
            "2021-09-01  1.0044  0.938665  0.014028  0.064328\n",
            "2021-10-01  1.0049  0.806129 -0.008894 -0.186813\n",
            "2021-11-01  1.0059  0.960601 -0.004985  0.120929\n",
            "2021-12-01  1.0077  0.953048  0.003006  0.048860\n",
            "2022-01-01  1.0073  1.203703 -0.067932  0.114907\n",
            "2022-02-01  1.0076  1.006375 -0.011790 -0.018475\n",
            "2022-03-01  1.0093  1.080247  0.004338  0.090909\n",
            "2022-04-01  1.0083  0.869234  0.074514 -0.015873\n",
            "2022-05-01  1.0103  1.096640 -0.004020 -0.009409\n",
            "2022-06-01  1.0102  0.867231 -0.012307 -0.003877\n",
            "2022-07-01  1.0103  1.042609  0.027921  0.023426\n",
            "2022-08-01  1.0117  1.093569  0.059711 -0.002861\n",
            "2022-09-01  1.0107  1.100356  0.010364 -0.055954\n",
            "2022-10-01  1.0102  1.084134  0.010757  0.124620\n",
            "2022-11-01  1.0102  0.855802 -0.000996  0.091892\n",
            "2022-12-01  1.0112  0.962097 -0.000121  0.021909\n",
            "2023-01-01  1.0112  1.033956  0.013894 -0.017699\n",
            "2023-02-01  1.0092  1.004657  0.017954 -0.092664\n",
            "2023-03-01  1.0117  0.973545  0.025762 -0.015603\n",
            "2023-04-01  1.0092  1.060425  0.030372  0.155620\n",
            "2023-05-01  1.0112  1.016543  0.025077 -0.074813\n",
            "2023-06-01  1.0107  1.080113  0.036016  0.117251\n",
            "2023-07-01  1.0107  1.017750 -0.005387  0.008727\n",
            "2023-08-01  1.0114  0.958347  0.034694  0.035885\n",
            "2023-09-01  1.0097  0.992591  0.020522  0.034642\n",
            "2023-10-01  1.0100  0.996052 -0.013611 -0.063616\n",
            "2023-11-01  1.0092  1.178617  0.008309  0.171249\n",
            "2023-12-01  1.0089  1.076048 -0.002942  0.095137\n",
            "2024-01-01  1.0097  0.973142  0.027567 -0.022201\n",
            "2024-02-01  1.0080  1.035926 -0.028040  0.008885\n",
            "2024-03-01  1.0083  1.054618  0.025970 -0.058708\n",
            "2024-04-01  1.0089  0.912187  0.002064 -0.055094\n",
            "2024-05-01  1.0083  0.989981 -0.001057  0.003738\n",
            "2024-06-01  1.0079  1.045061  0.001839  0.024229\n",
            "2024-07-01  1.0091  1.054244  0.004839  0.084946\n"
          ]
        }
      ]
    },
    {
      "cell_type": "code",
      "source": [
        "dados = dados.iloc[1:]\n",
        "dados = dados + 1\n",
        "dados.head()"
      ],
      "metadata": {
        "colab": {
          "base_uri": "https://localhost:8080/",
          "height": 238
        },
        "id": "FP3Yypmimijo",
        "outputId": "9992ea81-fec9-4f7c-86f3-5fdfbe1ee6f9"
      },
      "execution_count": 25,
      "outputs": [
        {
          "output_type": "execute_result",
          "data": {
            "text/plain": [
              "             SELIC     ITUB4    MXRF11     CPLE6\n",
              "data                                            \n",
              "2020-03-01  2.0034  1.732300  0.907143  0.746060\n",
              "2020-04-01  2.0028  1.986604  0.997047  1.016823\n",
              "2020-05-01  2.0024  2.012515  1.069101  1.163603\n",
              "2020-06-01  2.0021  2.105328  1.014774  0.960822\n",
              "2020-07-01  2.0019  2.057270  0.996360  1.091417"
            ],
            "text/html": [
              "\n",
              "  <div id=\"df-cf9696f1-aa80-472f-b046-d45ab7deb562\" class=\"colab-df-container\">\n",
              "    <div>\n",
              "<style scoped>\n",
              "    .dataframe tbody tr th:only-of-type {\n",
              "        vertical-align: middle;\n",
              "    }\n",
              "\n",
              "    .dataframe tbody tr th {\n",
              "        vertical-align: top;\n",
              "    }\n",
              "\n",
              "    .dataframe thead th {\n",
              "        text-align: right;\n",
              "    }\n",
              "</style>\n",
              "<table border=\"1\" class=\"dataframe\">\n",
              "  <thead>\n",
              "    <tr style=\"text-align: right;\">\n",
              "      <th></th>\n",
              "      <th>SELIC</th>\n",
              "      <th>ITUB4</th>\n",
              "      <th>MXRF11</th>\n",
              "      <th>CPLE6</th>\n",
              "    </tr>\n",
              "    <tr>\n",
              "      <th>data</th>\n",
              "      <th></th>\n",
              "      <th></th>\n",
              "      <th></th>\n",
              "      <th></th>\n",
              "    </tr>\n",
              "  </thead>\n",
              "  <tbody>\n",
              "    <tr>\n",
              "      <th>2020-03-01</th>\n",
              "      <td>2.0034</td>\n",
              "      <td>1.732300</td>\n",
              "      <td>0.907143</td>\n",
              "      <td>0.746060</td>\n",
              "    </tr>\n",
              "    <tr>\n",
              "      <th>2020-04-01</th>\n",
              "      <td>2.0028</td>\n",
              "      <td>1.986604</td>\n",
              "      <td>0.997047</td>\n",
              "      <td>1.016823</td>\n",
              "    </tr>\n",
              "    <tr>\n",
              "      <th>2020-05-01</th>\n",
              "      <td>2.0024</td>\n",
              "      <td>2.012515</td>\n",
              "      <td>1.069101</td>\n",
              "      <td>1.163603</td>\n",
              "    </tr>\n",
              "    <tr>\n",
              "      <th>2020-06-01</th>\n",
              "      <td>2.0021</td>\n",
              "      <td>2.105328</td>\n",
              "      <td>1.014774</td>\n",
              "      <td>0.960822</td>\n",
              "    </tr>\n",
              "    <tr>\n",
              "      <th>2020-07-01</th>\n",
              "      <td>2.0019</td>\n",
              "      <td>2.057270</td>\n",
              "      <td>0.996360</td>\n",
              "      <td>1.091417</td>\n",
              "    </tr>\n",
              "  </tbody>\n",
              "</table>\n",
              "</div>\n",
              "    <div class=\"colab-df-buttons\">\n",
              "\n",
              "  <div class=\"colab-df-container\">\n",
              "    <button class=\"colab-df-convert\" onclick=\"convertToInteractive('df-cf9696f1-aa80-472f-b046-d45ab7deb562')\"\n",
              "            title=\"Convert this dataframe to an interactive table.\"\n",
              "            style=\"display:none;\">\n",
              "\n",
              "  <svg xmlns=\"http://www.w3.org/2000/svg\" height=\"24px\" viewBox=\"0 -960 960 960\">\n",
              "    <path d=\"M120-120v-720h720v720H120Zm60-500h600v-160H180v160Zm220 220h160v-160H400v160Zm0 220h160v-160H400v160ZM180-400h160v-160H180v160Zm440 0h160v-160H620v160ZM180-180h160v-160H180v160Zm440 0h160v-160H620v160Z\"/>\n",
              "  </svg>\n",
              "    </button>\n",
              "\n",
              "  <style>\n",
              "    .colab-df-container {\n",
              "      display:flex;\n",
              "      gap: 12px;\n",
              "    }\n",
              "\n",
              "    .colab-df-convert {\n",
              "      background-color: #E8F0FE;\n",
              "      border: none;\n",
              "      border-radius: 50%;\n",
              "      cursor: pointer;\n",
              "      display: none;\n",
              "      fill: #1967D2;\n",
              "      height: 32px;\n",
              "      padding: 0 0 0 0;\n",
              "      width: 32px;\n",
              "    }\n",
              "\n",
              "    .colab-df-convert:hover {\n",
              "      background-color: #E2EBFA;\n",
              "      box-shadow: 0px 1px 2px rgba(60, 64, 67, 0.3), 0px 1px 3px 1px rgba(60, 64, 67, 0.15);\n",
              "      fill: #174EA6;\n",
              "    }\n",
              "\n",
              "    .colab-df-buttons div {\n",
              "      margin-bottom: 4px;\n",
              "    }\n",
              "\n",
              "    [theme=dark] .colab-df-convert {\n",
              "      background-color: #3B4455;\n",
              "      fill: #D2E3FC;\n",
              "    }\n",
              "\n",
              "    [theme=dark] .colab-df-convert:hover {\n",
              "      background-color: #434B5C;\n",
              "      box-shadow: 0px 1px 3px 1px rgba(0, 0, 0, 0.15);\n",
              "      filter: drop-shadow(0px 1px 2px rgba(0, 0, 0, 0.3));\n",
              "      fill: #FFFFFF;\n",
              "    }\n",
              "  </style>\n",
              "\n",
              "    <script>\n",
              "      const buttonEl =\n",
              "        document.querySelector('#df-cf9696f1-aa80-472f-b046-d45ab7deb562 button.colab-df-convert');\n",
              "      buttonEl.style.display =\n",
              "        google.colab.kernel.accessAllowed ? 'block' : 'none';\n",
              "\n",
              "      async function convertToInteractive(key) {\n",
              "        const element = document.querySelector('#df-cf9696f1-aa80-472f-b046-d45ab7deb562');\n",
              "        const dataTable =\n",
              "          await google.colab.kernel.invokeFunction('convertToInteractive',\n",
              "                                                    [key], {});\n",
              "        if (!dataTable) return;\n",
              "\n",
              "        const docLinkHtml = 'Like what you see? Visit the ' +\n",
              "          '<a target=\"_blank\" href=https://colab.research.google.com/notebooks/data_table.ipynb>data table notebook</a>'\n",
              "          + ' to learn more about interactive tables.';\n",
              "        element.innerHTML = '';\n",
              "        dataTable['output_type'] = 'display_data';\n",
              "        await google.colab.output.renderOutput(dataTable, element);\n",
              "        const docLink = document.createElement('div');\n",
              "        docLink.innerHTML = docLinkHtml;\n",
              "        element.appendChild(docLink);\n",
              "      }\n",
              "    </script>\n",
              "  </div>\n",
              "\n",
              "\n",
              "<div id=\"df-d25859f4-51c1-413d-a7ac-ef38fad591e5\">\n",
              "  <button class=\"colab-df-quickchart\" onclick=\"quickchart('df-d25859f4-51c1-413d-a7ac-ef38fad591e5')\"\n",
              "            title=\"Suggest charts\"\n",
              "            style=\"display:none;\">\n",
              "\n",
              "<svg xmlns=\"http://www.w3.org/2000/svg\" height=\"24px\"viewBox=\"0 0 24 24\"\n",
              "     width=\"24px\">\n",
              "    <g>\n",
              "        <path d=\"M19 3H5c-1.1 0-2 .9-2 2v14c0 1.1.9 2 2 2h14c1.1 0 2-.9 2-2V5c0-1.1-.9-2-2-2zM9 17H7v-7h2v7zm4 0h-2V7h2v10zm4 0h-2v-4h2v4z\"/>\n",
              "    </g>\n",
              "</svg>\n",
              "  </button>\n",
              "\n",
              "<style>\n",
              "  .colab-df-quickchart {\n",
              "      --bg-color: #E8F0FE;\n",
              "      --fill-color: #1967D2;\n",
              "      --hover-bg-color: #E2EBFA;\n",
              "      --hover-fill-color: #174EA6;\n",
              "      --disabled-fill-color: #AAA;\n",
              "      --disabled-bg-color: #DDD;\n",
              "  }\n",
              "\n",
              "  [theme=dark] .colab-df-quickchart {\n",
              "      --bg-color: #3B4455;\n",
              "      --fill-color: #D2E3FC;\n",
              "      --hover-bg-color: #434B5C;\n",
              "      --hover-fill-color: #FFFFFF;\n",
              "      --disabled-bg-color: #3B4455;\n",
              "      --disabled-fill-color: #666;\n",
              "  }\n",
              "\n",
              "  .colab-df-quickchart {\n",
              "    background-color: var(--bg-color);\n",
              "    border: none;\n",
              "    border-radius: 50%;\n",
              "    cursor: pointer;\n",
              "    display: none;\n",
              "    fill: var(--fill-color);\n",
              "    height: 32px;\n",
              "    padding: 0;\n",
              "    width: 32px;\n",
              "  }\n",
              "\n",
              "  .colab-df-quickchart:hover {\n",
              "    background-color: var(--hover-bg-color);\n",
              "    box-shadow: 0 1px 2px rgba(60, 64, 67, 0.3), 0 1px 3px 1px rgba(60, 64, 67, 0.15);\n",
              "    fill: var(--button-hover-fill-color);\n",
              "  }\n",
              "\n",
              "  .colab-df-quickchart-complete:disabled,\n",
              "  .colab-df-quickchart-complete:disabled:hover {\n",
              "    background-color: var(--disabled-bg-color);\n",
              "    fill: var(--disabled-fill-color);\n",
              "    box-shadow: none;\n",
              "  }\n",
              "\n",
              "  .colab-df-spinner {\n",
              "    border: 2px solid var(--fill-color);\n",
              "    border-color: transparent;\n",
              "    border-bottom-color: var(--fill-color);\n",
              "    animation:\n",
              "      spin 1s steps(1) infinite;\n",
              "  }\n",
              "\n",
              "  @keyframes spin {\n",
              "    0% {\n",
              "      border-color: transparent;\n",
              "      border-bottom-color: var(--fill-color);\n",
              "      border-left-color: var(--fill-color);\n",
              "    }\n",
              "    20% {\n",
              "      border-color: transparent;\n",
              "      border-left-color: var(--fill-color);\n",
              "      border-top-color: var(--fill-color);\n",
              "    }\n",
              "    30% {\n",
              "      border-color: transparent;\n",
              "      border-left-color: var(--fill-color);\n",
              "      border-top-color: var(--fill-color);\n",
              "      border-right-color: var(--fill-color);\n",
              "    }\n",
              "    40% {\n",
              "      border-color: transparent;\n",
              "      border-right-color: var(--fill-color);\n",
              "      border-top-color: var(--fill-color);\n",
              "    }\n",
              "    60% {\n",
              "      border-color: transparent;\n",
              "      border-right-color: var(--fill-color);\n",
              "    }\n",
              "    80% {\n",
              "      border-color: transparent;\n",
              "      border-right-color: var(--fill-color);\n",
              "      border-bottom-color: var(--fill-color);\n",
              "    }\n",
              "    90% {\n",
              "      border-color: transparent;\n",
              "      border-bottom-color: var(--fill-color);\n",
              "    }\n",
              "  }\n",
              "</style>\n",
              "\n",
              "  <script>\n",
              "    async function quickchart(key) {\n",
              "      const quickchartButtonEl =\n",
              "        document.querySelector('#' + key + ' button');\n",
              "      quickchartButtonEl.disabled = true;  // To prevent multiple clicks.\n",
              "      quickchartButtonEl.classList.add('colab-df-spinner');\n",
              "      try {\n",
              "        const charts = await google.colab.kernel.invokeFunction(\n",
              "            'suggestCharts', [key], {});\n",
              "      } catch (error) {\n",
              "        console.error('Error during call to suggestCharts:', error);\n",
              "      }\n",
              "      quickchartButtonEl.classList.remove('colab-df-spinner');\n",
              "      quickchartButtonEl.classList.add('colab-df-quickchart-complete');\n",
              "    }\n",
              "    (() => {\n",
              "      let quickchartButtonEl =\n",
              "        document.querySelector('#df-d25859f4-51c1-413d-a7ac-ef38fad591e5 button');\n",
              "      quickchartButtonEl.style.display =\n",
              "        google.colab.kernel.accessAllowed ? 'block' : 'none';\n",
              "    })();\n",
              "  </script>\n",
              "</div>\n",
              "\n",
              "    </div>\n",
              "  </div>\n"
            ],
            "application/vnd.google.colaboratory.intrinsic+json": {
              "type": "dataframe",
              "variable_name": "dados",
              "summary": "{\n  \"name\": \"dados\",\n  \"rows\": 53,\n  \"fields\": [\n    {\n      \"column\": \"data\",\n      \"properties\": {\n        \"dtype\": \"date\",\n        \"min\": \"2020-03-01 00:00:00\",\n        \"max\": \"2024-07-01 00:00:00\",\n        \"num_unique_values\": 53,\n        \"samples\": [\n          \"2021-10-01 00:00:00\",\n          \"2023-08-01 00:00:00\",\n          \"2024-02-01 00:00:00\"\n        ],\n        \"semantic_type\": \"\",\n        \"description\": \"\"\n      }\n    },\n    {\n      \"column\": \"SELIC\",\n      \"properties\": {\n        \"dtype\": \"number\",\n        \"std\": 0.0036623005847820655,\n        \"min\": 2.0013,\n        \"max\": 2.0117000000000003,\n        \"num_unique_values\": 34,\n        \"samples\": [\n          2.0059,\n          2.0093,\n          2.0114\n        ],\n        \"semantic_type\": \"\",\n        \"description\": \"\"\n      }\n    },\n    {\n      \"column\": \"ITUB4\",\n      \"properties\": {\n        \"dtype\": \"number\",\n        \"std\": 0.09338139547882394,\n        \"min\": 1.7322996304337597,\n        \"max\": 2.217166041569866,\n        \"num_unique_values\": 53,\n        \"samples\": [\n          1.8061285922942254,\n          1.9583465469356107,\n          2.0359256104666974\n        ],\n        \"semantic_type\": \"\",\n        \"description\": \"\"\n      }\n    },\n    {\n      \"column\": \"MXRF11\",\n      \"properties\": {\n        \"dtype\": \"number\",\n        \"std\": 0.029317125427892807,\n        \"min\": 0.9071432134714374,\n        \"max\": 1.0745137979242165,\n        \"num_unique_values\": 53,\n        \"samples\": [\n          0.9911063677269651,\n          1.0346942850965435,\n          0.9719596640880035\n        ],\n        \"semantic_type\": \"\",\n        \"description\": \"\"\n      }\n    },\n    {\n      \"column\": \"CPLE6\",\n      \"properties\": {\n        \"dtype\": \"number\",\n        \"std\": 0.09244270954477109,\n        \"min\": 0.7460604153091459,\n        \"max\": 1.2171388025415084,\n        \"num_unique_values\": 53,\n        \"samples\": [\n          0.8131867640684061,\n          1.0358850657680327,\n          1.0088845057764848\n        ],\n        \"semantic_type\": \"\",\n        \"description\": \"\"\n      }\n    }\n  ]\n}"
            }
          },
          "metadata": {},
          "execution_count": 25
        }
      ]
    },
    {
      "cell_type": "code",
      "source": [
        "acumulado = dados.cumprod()\n",
        "\n",
        "plt.figure(figsize=(15, 9))\n",
        "sns.set_style('darkgrid')\n",
        "sns.set_palette('mako')\n",
        "plt.title('Ativos vs Selic')\n",
        "sns.lineplot(data=acumulado)"
      ],
      "metadata": {
        "colab": {
          "base_uri": "https://localhost:8080/",
          "height": 516
        },
        "id": "u5DVeLZzm4Pt",
        "outputId": "68842d1c-40d0-4d96-df1b-31f2beeddfa8"
      },
      "execution_count": 37,
      "outputs": [
        {
          "output_type": "execute_result",
          "data": {
            "text/plain": [
              "<Axes: title={'center': 'Ativos vs Selic'}, xlabel='data'>"
            ]
          },
          "metadata": {},
          "execution_count": 37
        },
        {
          "output_type": "display_data",
          "data": {
            "text/plain": [
              "<Figure size 1500x900 with 1 Axes>"
            ],
            "image/png": "[encoded data removed]"
          },
          "metadata": {}
        }
      ]
    },
    {
      "cell_type": "code",
      "source": [
        "plt.figure(figsize=(8,6))\n",
        "plt.title('Correlação do Retorno Acumulado')\n",
        "sns.heatmap(acumulado.corr(), annot=True, cmap='coolwarm', fmt=\".2f\",linewidths=.5)"
      ],
      "metadata": {
        "colab": {
          "base_uri": "https://localhost:8080/",
          "height": 562
        },
        "id": "GQZptx_LospJ",
        "outputId": "50a99ef9-08f3-4062-9516-a59c08d0f507"
      },
      "execution_count": 28,
      "outputs": [
        {
          "output_type": "execute_result",
          "data": {
            "text/plain": [
              "<Axes: title={'center': 'Correlação do Retorno Acumulado'}>"
            ]
          },
          "metadata": {},
          "execution_count": 28
        },
        {
          "output_type": "display_data",
          "data": {
            "text/plain": [
              "<Figure size 800x600 with 2 Axes>"
            ],
            "image/png": "[encoded data removed]"
          },
          "metadata": {}
        }
      ]
    }
  ]
}